{
 "cells": [
  {
   "cell_type": "markdown",
   "metadata": {},
   "source": [
    "# Decision Trees\n",
    "An introductory example of decision trees using data from this [interactive visualization](http://www.r2d3.us/visual-intro-to-machine-learning-part-1/). This is an over-simplified example that doesn't use **normalization** as a pre-processing step, or **cross validation** as a mechanism for tuning the model."
   ]
  },
  {
   "cell_type": "markdown",
   "metadata": {},
   "source": [
    "## Set up"
   ]
  },
  {
   "cell_type": "code",
   "execution_count": 131,
   "metadata": {
    "collapsed": false
   },
   "outputs": [],
   "source": [
    "# Load packages\n",
    "import pandas as pd\n",
    "from sklearn import tree\n",
    "from __future__ import division\n",
    "from sklearn.cross_validation import train_test_split\n",
    "from sklearn.neighbors import KNeighborsClassifier\n",
    "%matplotlib inline\n",
    "import matplotlib.pyplot as plt\n",
    "import numpy as np"
   ]
  },
  {
   "cell_type": "code",
   "execution_count": 143,
   "metadata": {
    "collapsed": false
   },
   "outputs": [],
   "source": [
    "# Read data\n",
    "df = pd.read_csv('blood-donation-test.csv')"
   ]
  },
  {
   "cell_type": "markdown",
   "metadata": {},
   "source": [
    "## Data Exploration\n",
    "Some basic exploratory analysis before creating a decision tree"
   ]
  },
  {
   "cell_type": "code",
   "execution_count": 146,
   "metadata": {
    "collapsed": false
   },
   "outputs": [
    {
     "data": {
      "text/plain": [
       "Index(['Unnamed: 0', 'Months since Last Donation', 'Number of Donations',\n",
       "       'Total Volume Donated (c.c.)', 'Months since First Donation'],\n",
       "      dtype='object')"
      ]
     },
     "execution_count": 146,
     "metadata": {},
     "output_type": "execute_result"
    }
   ],
   "source": [
    "# What is the shape of our data?\n",
    "df.shape\n",
    "df.columns"
   ]
  },
  {
   "cell_type": "code",
   "execution_count": 147,
   "metadata": {
    "collapsed": false
   },
   "outputs": [],
   "source": [
    "# What variables are present in the dataset?\n",
    "df.columns\n",
    "df.columns = [\"person\", \"month_since_last\", \"num_donations\", \"total_volume\", \"months_since-first\"]"
   ]
  },
  {
   "cell_type": "code",
   "execution_count": 148,
   "metadata": {
    "collapsed": false
   },
   "outputs": [
    {
     "data": {
      "text/plain": [
       "array([[<matplotlib.axes._subplots.AxesSubplot object at 0x0DC6AA90>]], dtype=object)"
      ]
     },
     "execution_count": 148,
     "metadata": {},
     "output_type": "execute_result"
    },
    {
     "data": {
      "image/png": "[encoded data removed]",
      "text/plain": [
       "<matplotlib.figure.Figure at 0xe49f590>"
      ]
     },
     "metadata": {},
     "output_type": "display_data"
    }
   ],
   "source": [
    "# What is the distribution of our outcome variable `in_sf`?\n",
    "df.hist('num_donations')"
   ]
  },
  {
   "cell_type": "code",
   "execution_count": 136,
   "metadata": {
    "collapsed": false
   },
   "outputs": [
    {
     "data": {
      "image/png": "[encoded data removed]",
      "text/plain": [
       "<matplotlib.figure.Figure at 0x10b0350>"
      ]
     },
     "metadata": {},
     "output_type": "display_data"
    }
   ],
   "source": [
    "# How does elevation vary for houses in/not-in sf (I suggest an overlapping histogram)\n",
    "plt.hist(df.total_volume[df.outcome == 1], alpha=0.5, label='Did donate')\n",
    "plt.hist(df.total_volume[df.outcome != 1], alpha=0.5, label='Did NOT donate')\n",
    "plt.legend(loc='upper right')\n",
    "plt.show()"
   ]
  },
  {
   "cell_type": "code",
   "execution_count": 150,
   "metadata": {
    "collapsed": false
   },
   "outputs": [
    {
     "data": {
      "text/plain": [
       "Index(['person', 'month_since_last', 'num_donations', 'total_volume',\n",
       "       'months_since-first'],\n",
       "      dtype='object')"
      ]
     },
     "execution_count": 150,
     "metadata": {},
     "output_type": "execute_result"
    }
   ],
   "source": [
    "df.columns"
   ]
  },
  {
   "cell_type": "markdown",
   "metadata": {},
   "source": [
    "## Build a decision tree using all variables"
   ]
  },
  {
   "cell_type": "code",
   "execution_count": 151,
   "metadata": {
    "collapsed": false
   },
   "outputs": [],
   "source": [
    "# Create variables to hold features and outcomes separately\n",
    "# df.columns = [\"outcome\", \"month-since-last\", \"num-donations\", \"total-volume\", \"months-since-first\", \"Made-March07\"]\n",
    "\n",
    "features = df"
   ]
  },
  {
   "cell_type": "code",
   "execution_count": 61,
   "metadata": {
    "collapsed": true
   },
   "outputs": [],
   "source": [
    "from sklearn import preprocessing"
   ]
  },
  {
   "cell_type": "code",
   "execution_count": 87,
   "metadata": {
    "collapsed": false
   },
   "outputs": [
    {
     "name": "stderr",
     "output_type": "stream",
     "text": [
      "C:\\Users\\Christopher\\Anaconda3\\lib\\site-packages\\ipykernel\\__main__.py:1: FutureWarning: reshape is deprecated and will raise in a subsequent release. Please use .values.reshape(...) instead\n",
      "  if __name__ == '__main__':\n",
      "C:\\Users\\Christopher\\Anaconda3\\lib\\site-packages\\sklearn\\utils\\validation.py:429: DataConversionWarning: Data with input dtype int64 was converted to float64 by the normalize function.\n",
      "  warnings.warn(msg, _DataConversionWarning)\n",
      "C:\\Users\\Christopher\\Anaconda3\\lib\\site-packages\\ipykernel\\__main__.py:3: FutureWarning: reshape is deprecated and will raise in a subsequent release. Please use .values.reshape(...) instead\n",
      "  app.launch_new_instance()\n",
      "C:\\Users\\Christopher\\Anaconda3\\lib\\site-packages\\ipykernel\\__main__.py:5: FutureWarning: reshape is deprecated and will raise in a subsequent release. Please use .values.reshape(...) instead\n"
     ]
    },
    {
     "ename": "NameError",
     "evalue": "name 'total_volume_normalized' is not defined",
     "output_type": "error",
     "traceback": [
      "\u001b[0;31m---------------------------------------------------------------------------\u001b[0m",
      "\u001b[0;31mNameError\u001b[0m                                 Traceback (most recent call last)",
      "\u001b[0;32m<ipython-input-87-6e2c6cc803ca>\u001b[0m in \u001b[0;36m<module>\u001b[0;34m()\u001b[0m\n\u001b[1;32m      4\u001b[0m \u001b[0mnum_donations_normalized\u001b[0m \u001b[1;33m=\u001b[0m \u001b[0mpreprocessing\u001b[0m\u001b[1;33m.\u001b[0m\u001b[0mnormalize\u001b[0m\u001b[1;33m(\u001b[0m\u001b[0mnum_donations\u001b[0m\u001b[1;33m,\u001b[0m \u001b[0mnorm\u001b[0m \u001b[1;33m=\u001b[0m \u001b[1;34m'l1'\u001b[0m\u001b[1;33m)\u001b[0m\u001b[1;33m\u001b[0m\u001b[0m\n\u001b[1;32m      5\u001b[0m \u001b[0mtotal_volume\u001b[0m \u001b[1;33m=\u001b[0m \u001b[0mdf\u001b[0m\u001b[1;33m.\u001b[0m\u001b[0mtotal_volume\u001b[0m\u001b[1;33m.\u001b[0m\u001b[0mreshape\u001b[0m\u001b[1;33m(\u001b[0m\u001b[1;33m-\u001b[0m\u001b[1;36m1\u001b[0m\u001b[1;33m,\u001b[0m\u001b[1;36m1\u001b[0m\u001b[1;33m)\u001b[0m\u001b[1;33m\u001b[0m\u001b[0m\n\u001b[0;32m----> 6\u001b[0;31m \u001b[0mtotal_volume_normalized\u001b[0m \u001b[1;33m=\u001b[0m \u001b[0mpreprocessing\u001b[0m\u001b[1;33m.\u001b[0m\u001b[0mnormalize\u001b[0m\u001b[1;33m(\u001b[0m\u001b[0mtotal_volume_normalized\u001b[0m\u001b[1;33m,\u001b[0m \u001b[0mnorm\u001b[0m \u001b[1;33m=\u001b[0m \u001b[1;34m'l1'\u001b[0m\u001b[1;33m)\u001b[0m\u001b[1;33m\u001b[0m\u001b[0m\n\u001b[0m\u001b[1;32m      7\u001b[0m \u001b[1;33m\u001b[0m\u001b[0m\n\u001b[1;32m      8\u001b[0m \u001b[1;33m\u001b[0m\u001b[0m\n",
      "\u001b[0;31mNameError\u001b[0m: name 'total_volume_normalized' is not defined"
     ]
    }
   ],
   "source": [
    "months_last = df.month_since_last.reshape(-1,1)\n",
    "months_last_normalized = preprocessing.normalize(months_last, norm = 'l1')\n",
    "num_donations = df.num_donations.reshape(-1,1)\n",
    "num_donations_normalized = preprocessing.normalize(num_donations, norm = 'l1')\n",
    "total_volume = df.total_volume.reshape(-1,1)\n",
    "total_volume_normalized = preprocessing.normalize(total_volume_normalized, norm = 'l1')\n",
    "\n",
    "\n",
    "\n"
   ]
  },
  {
   "cell_type": "code",
   "execution_count": 138,
   "metadata": {
    "collapsed": false
   },
   "outputs": [],
   "source": [
    "# Split data into testing and training sets\n",
    "train_features, test_features, train_outcome, test_outcome = train_test_split(features, outcome, test_size=0.30)"
   ]
  },
  {
   "cell_type": "code",
   "execution_count": 139,
   "metadata": {
    "collapsed": false
   },
   "outputs": [
    {
     "data": {
      "text/plain": [
       "DecisionTreeClassifier(class_weight=None, criterion='gini', max_depth=1,\n",
       "            max_features=None, max_leaf_nodes=None,\n",
       "            min_impurity_split=1e-07, min_samples_leaf=1,\n",
       "            min_samples_split=2, min_weight_fraction_leaf=0.0,\n",
       "            presort=False, random_state=None, splitter='best')"
      ]
     },
     "execution_count": 139,
     "metadata": {},
     "output_type": "execute_result"
    }
   ],
   "source": [
    "# Create a classifier and fit your features to your outcome\n",
    "clf = tree.DecisionTreeClassifier(max_depth=1)\n",
    "clf = clf.fit(train_features, train_outcome)\n",
    "clf"
   ]
  },
  {
   "cell_type": "markdown",
   "metadata": {},
   "source": [
    "## Assess Model Fit"
   ]
  },
  {
   "cell_type": "code",
   "execution_count": 152,
   "metadata": {
    "collapsed": false
   },
   "outputs": [
    {
     "data": {
      "text/plain": [
       "array([[ 0.63592233,  0.36407767],\n",
       "       [ 0.87309645,  0.12690355],\n",
       "       [ 0.63592233,  0.36407767],\n",
       "       [ 0.87309645,  0.12690355],\n",
       "       [ 0.63592233,  0.36407767],\n",
       "       [ 0.63592233,  0.36407767],\n",
       "       [ 0.63592233,  0.36407767],\n",
       "       [ 0.87309645,  0.12690355],\n",
       "       [ 0.87309645,  0.12690355],\n",
       "       [ 0.87309645,  0.12690355],\n",
       "       [ 0.87309645,  0.12690355],\n",
       "       [ 0.87309645,  0.12690355],\n",
       "       [ 0.63592233,  0.36407767],\n",
       "       [ 0.63592233,  0.36407767],\n",
       "       [ 0.63592233,  0.36407767],\n",
       "       [ 0.87309645,  0.12690355],\n",
       "       [ 0.87309645,  0.12690355],\n",
       "       [ 0.63592233,  0.36407767],\n",
       "       [ 0.87309645,  0.12690355],\n",
       "       [ 0.63592233,  0.36407767],\n",
       "       [ 0.63592233,  0.36407767],\n",
       "       [ 0.63592233,  0.36407767],\n",
       "       [ 0.63592233,  0.36407767],\n",
       "       [ 0.63592233,  0.36407767],\n",
       "       [ 0.63592233,  0.36407767],\n",
       "       [ 0.63592233,  0.36407767],\n",
       "       [ 0.63592233,  0.36407767],\n",
       "       [ 0.87309645,  0.12690355],\n",
       "       [ 0.63592233,  0.36407767],\n",
       "       [ 0.63592233,  0.36407767],\n",
       "       [ 0.63592233,  0.36407767],\n",
       "       [ 0.87309645,  0.12690355],\n",
       "       [ 0.63592233,  0.36407767],\n",
       "       [ 0.63592233,  0.36407767],\n",
       "       [ 0.63592233,  0.36407767],\n",
       "       [ 0.87309645,  0.12690355],\n",
       "       [ 0.63592233,  0.36407767],\n",
       "       [ 0.87309645,  0.12690355],\n",
       "       [ 0.63592233,  0.36407767],\n",
       "       [ 0.63592233,  0.36407767],\n",
       "       [ 0.63592233,  0.36407767],\n",
       "       [ 0.87309645,  0.12690355],\n",
       "       [ 0.87309645,  0.12690355],\n",
       "       [ 0.63592233,  0.36407767],\n",
       "       [ 0.87309645,  0.12690355],\n",
       "       [ 0.63592233,  0.36407767],\n",
       "       [ 0.63592233,  0.36407767],\n",
       "       [ 0.87309645,  0.12690355],\n",
       "       [ 0.87309645,  0.12690355],\n",
       "       [ 0.87309645,  0.12690355],\n",
       "       [ 0.63592233,  0.36407767],\n",
       "       [ 0.63592233,  0.36407767],\n",
       "       [ 0.87309645,  0.12690355],\n",
       "       [ 0.63592233,  0.36407767],\n",
       "       [ 0.87309645,  0.12690355],\n",
       "       [ 0.87309645,  0.12690355],\n",
       "       [ 0.63592233,  0.36407767],\n",
       "       [ 0.63592233,  0.36407767],\n",
       "       [ 0.63592233,  0.36407767],\n",
       "       [ 0.63592233,  0.36407767],\n",
       "       [ 0.63592233,  0.36407767],\n",
       "       [ 0.87309645,  0.12690355],\n",
       "       [ 0.87309645,  0.12690355],\n",
       "       [ 0.63592233,  0.36407767],\n",
       "       [ 0.87309645,  0.12690355],\n",
       "       [ 0.87309645,  0.12690355],\n",
       "       [ 0.87309645,  0.12690355],\n",
       "       [ 0.87309645,  0.12690355],\n",
       "       [ 0.63592233,  0.36407767],\n",
       "       [ 0.63592233,  0.36407767],\n",
       "       [ 0.87309645,  0.12690355],\n",
       "       [ 0.87309645,  0.12690355],\n",
       "       [ 0.87309645,  0.12690355],\n",
       "       [ 0.63592233,  0.36407767],\n",
       "       [ 0.87309645,  0.12690355],\n",
       "       [ 0.87309645,  0.12690355],\n",
       "       [ 0.87309645,  0.12690355],\n",
       "       [ 0.63592233,  0.36407767],\n",
       "       [ 0.87309645,  0.12690355],\n",
       "       [ 0.63592233,  0.36407767],\n",
       "       [ 0.87309645,  0.12690355],\n",
       "       [ 0.87309645,  0.12690355],\n",
       "       [ 0.63592233,  0.36407767],\n",
       "       [ 0.63592233,  0.36407767],\n",
       "       [ 0.63592233,  0.36407767],\n",
       "       [ 0.87309645,  0.12690355],\n",
       "       [ 0.87309645,  0.12690355],\n",
       "       [ 0.87309645,  0.12690355],\n",
       "       [ 0.87309645,  0.12690355],\n",
       "       [ 0.63592233,  0.36407767],\n",
       "       [ 0.63592233,  0.36407767],\n",
       "       [ 0.63592233,  0.36407767],\n",
       "       [ 0.87309645,  0.12690355],\n",
       "       [ 0.87309645,  0.12690355],\n",
       "       [ 0.87309645,  0.12690355],\n",
       "       [ 0.87309645,  0.12690355],\n",
       "       [ 0.63592233,  0.36407767],\n",
       "       [ 0.87309645,  0.12690355],\n",
       "       [ 0.87309645,  0.12690355],\n",
       "       [ 0.63592233,  0.36407767],\n",
       "       [ 0.63592233,  0.36407767],\n",
       "       [ 0.87309645,  0.12690355],\n",
       "       [ 0.87309645,  0.12690355],\n",
       "       [ 0.63592233,  0.36407767],\n",
       "       [ 0.87309645,  0.12690355],\n",
       "       [ 0.63592233,  0.36407767],\n",
       "       [ 0.87309645,  0.12690355],\n",
       "       [ 0.63592233,  0.36407767],\n",
       "       [ 0.63592233,  0.36407767],\n",
       "       [ 0.87309645,  0.12690355],\n",
       "       [ 0.87309645,  0.12690355],\n",
       "       [ 0.63592233,  0.36407767],\n",
       "       [ 0.87309645,  0.12690355],\n",
       "       [ 0.63592233,  0.36407767],\n",
       "       [ 0.87309645,  0.12690355],\n",
       "       [ 0.87309645,  0.12690355],\n",
       "       [ 0.87309645,  0.12690355],\n",
       "       [ 0.63592233,  0.36407767],\n",
       "       [ 0.63592233,  0.36407767],\n",
       "       [ 0.63592233,  0.36407767],\n",
       "       [ 0.87309645,  0.12690355],\n",
       "       [ 0.63592233,  0.36407767],\n",
       "       [ 0.87309645,  0.12690355],\n",
       "       [ 0.63592233,  0.36407767],\n",
       "       [ 0.63592233,  0.36407767],\n",
       "       [ 0.63592233,  0.36407767],\n",
       "       [ 0.63592233,  0.36407767],\n",
       "       [ 0.87309645,  0.12690355],\n",
       "       [ 0.87309645,  0.12690355],\n",
       "       [ 0.87309645,  0.12690355],\n",
       "       [ 0.63592233,  0.36407767],\n",
       "       [ 0.87309645,  0.12690355],\n",
       "       [ 0.87309645,  0.12690355],\n",
       "       [ 0.63592233,  0.36407767],\n",
       "       [ 0.63592233,  0.36407767],\n",
       "       [ 0.63592233,  0.36407767],\n",
       "       [ 0.87309645,  0.12690355],\n",
       "       [ 0.87309645,  0.12690355],\n",
       "       [ 0.63592233,  0.36407767],\n",
       "       [ 0.63592233,  0.36407767],\n",
       "       [ 0.63592233,  0.36407767],\n",
       "       [ 0.63592233,  0.36407767],\n",
       "       [ 0.63592233,  0.36407767],\n",
       "       [ 0.63592233,  0.36407767],\n",
       "       [ 0.63592233,  0.36407767],\n",
       "       [ 0.87309645,  0.12690355],\n",
       "       [ 0.87309645,  0.12690355],\n",
       "       [ 0.63592233,  0.36407767],\n",
       "       [ 0.87309645,  0.12690355],\n",
       "       [ 0.63592233,  0.36407767],\n",
       "       [ 0.87309645,  0.12690355],\n",
       "       [ 0.63592233,  0.36407767],\n",
       "       [ 0.87309645,  0.12690355],\n",
       "       [ 0.87309645,  0.12690355],\n",
       "       [ 0.87309645,  0.12690355],\n",
       "       [ 0.87309645,  0.12690355],\n",
       "       [ 0.87309645,  0.12690355],\n",
       "       [ 0.63592233,  0.36407767],\n",
       "       [ 0.63592233,  0.36407767],\n",
       "       [ 0.87309645,  0.12690355],\n",
       "       [ 0.87309645,  0.12690355],\n",
       "       [ 0.87309645,  0.12690355],\n",
       "       [ 0.63592233,  0.36407767],\n",
       "       [ 0.87309645,  0.12690355],\n",
       "       [ 0.63592233,  0.36407767],\n",
       "       [ 0.87309645,  0.12690355],\n",
       "       [ 0.63592233,  0.36407767],\n",
       "       [ 0.63592233,  0.36407767],\n",
       "       [ 0.63592233,  0.36407767],\n",
       "       [ 0.63592233,  0.36407767],\n",
       "       [ 0.87309645,  0.12690355],\n",
       "       [ 0.87309645,  0.12690355],\n",
       "       [ 0.63592233,  0.36407767],\n",
       "       [ 0.63592233,  0.36407767],\n",
       "       [ 0.63592233,  0.36407767],\n",
       "       [ 0.87309645,  0.12690355],\n",
       "       [ 0.63592233,  0.36407767],\n",
       "       [ 0.63592233,  0.36407767],\n",
       "       [ 0.87309645,  0.12690355],\n",
       "       [ 0.63592233,  0.36407767],\n",
       "       [ 0.87309645,  0.12690355],\n",
       "       [ 0.87309645,  0.12690355],\n",
       "       [ 0.63592233,  0.36407767],\n",
       "       [ 0.87309645,  0.12690355],\n",
       "       [ 0.63592233,  0.36407767],\n",
       "       [ 0.87309645,  0.12690355],\n",
       "       [ 0.87309645,  0.12690355],\n",
       "       [ 0.87309645,  0.12690355],\n",
       "       [ 0.63592233,  0.36407767],\n",
       "       [ 0.87309645,  0.12690355],\n",
       "       [ 0.63592233,  0.36407767],\n",
       "       [ 0.63592233,  0.36407767],\n",
       "       [ 0.87309645,  0.12690355],\n",
       "       [ 0.87309645,  0.12690355],\n",
       "       [ 0.87309645,  0.12690355],\n",
       "       [ 0.87309645,  0.12690355],\n",
       "       [ 0.87309645,  0.12690355],\n",
       "       [ 0.87309645,  0.12690355],\n",
       "       [ 0.87309645,  0.12690355],\n",
       "       [ 0.63592233,  0.36407767]])"
      ]
     },
     "execution_count": 152,
     "metadata": {},
     "output_type": "execute_result"
    }
   ],
   "source": [
    "# Generate a set of predictions for your test data\n",
    "test_preds = clf.predict_proba(features)\n",
    "test_preds"
   ]
  },
  {
   "cell_type": "code",
   "execution_count": 154,
   "metadata": {
    "collapsed": false
   },
   "outputs": [],
   "source": [
    "np.savetxt('submission.csv', test_preds, delimiter =\",\")"
   ]
  },
  {
   "cell_type": "code",
   "execution_count": 141,
   "metadata": {
    "collapsed": false
   },
   "outputs": [
    {
     "ename": "TypeError",
     "evalue": "invalid type comparison",
     "output_type": "error",
     "traceback": [
      "\u001b[0;31m---------------------------------------------------------------------------\u001b[0m",
      "\u001b[0;31mTypeError\u001b[0m                                 Traceback (most recent call last)",
      "\u001b[0;32m<ipython-input-141-e014f0cedeb4>\u001b[0m in \u001b[0;36m<module>\u001b[0;34m()\u001b[0m\n\u001b[1;32m      1\u001b[0m \u001b[1;31m# Calculate accuracy for our test set (percentage of the time that prediction == truth)\u001b[0m\u001b[1;33m\u001b[0m\u001b[1;33m\u001b[0m\u001b[0m\n\u001b[0;32m----> 2\u001b[0;31m \u001b[0mtest_acc\u001b[0m \u001b[1;33m=\u001b[0m \u001b[1;33m(\u001b[0m\u001b[0mtest_preds\u001b[0m \u001b[1;33m==\u001b[0m \u001b[0mtest_outcome\u001b[0m\u001b[1;33m)\u001b[0m\u001b[1;33m.\u001b[0m\u001b[0msum\u001b[0m\u001b[1;33m(\u001b[0m\u001b[1;33m)\u001b[0m\u001b[1;33m/\u001b[0m\u001b[0mlen\u001b[0m\u001b[1;33m(\u001b[0m\u001b[0mtest_outcome\u001b[0m\u001b[1;33m)\u001b[0m\u001b[1;33m\u001b[0m\u001b[0m\n\u001b[0m\u001b[1;32m      3\u001b[0m \u001b[0mtest_acc\u001b[0m\u001b[1;33m\u001b[0m\u001b[0m\n",
      "\u001b[0;32mC:\\Users\\Christopher\\Anaconda3\\lib\\site-packages\\pandas\\core\\ops.py\u001b[0m in \u001b[0;36mwrapper\u001b[0;34m(self, other, axis)\u001b[0m\n\u001b[1;32m    830\u001b[0m                                          index=self.index)\n\u001b[1;32m    831\u001b[0m \u001b[1;33m\u001b[0m\u001b[0m\n\u001b[0;32m--> 832\u001b[0;31m             return self._constructor(na_op(self.values, np.asarray(other)),\n\u001b[0m\u001b[1;32m    833\u001b[0m                                      index=self.index).__finalize__(self)\n\u001b[1;32m    834\u001b[0m \u001b[1;33m\u001b[0m\u001b[0m\n",
      "\u001b[0;32mC:\\Users\\Christopher\\Anaconda3\\lib\\site-packages\\pandas\\core\\ops.py\u001b[0m in \u001b[0;36mna_op\u001b[0;34m(x, y)\u001b[0m\n\u001b[1;32m    792\u001b[0m                     \u001b[0mresult\u001b[0m \u001b[1;33m=\u001b[0m \u001b[0mgetattr\u001b[0m\u001b[1;33m(\u001b[0m\u001b[0mx\u001b[0m\u001b[1;33m,\u001b[0m \u001b[0mname\u001b[0m\u001b[1;33m)\u001b[0m\u001b[1;33m(\u001b[0m\u001b[0my\u001b[0m\u001b[1;33m)\u001b[0m\u001b[1;33m\u001b[0m\u001b[0m\n\u001b[1;32m    793\u001b[0m                 \u001b[1;32mif\u001b[0m \u001b[0mresult\u001b[0m \u001b[1;32mis\u001b[0m \u001b[0mNotImplemented\u001b[0m\u001b[1;33m:\u001b[0m\u001b[1;33m\u001b[0m\u001b[0m\n\u001b[0;32m--> 794\u001b[0;31m                     \u001b[1;32mraise\u001b[0m \u001b[0mTypeError\u001b[0m\u001b[1;33m(\u001b[0m\u001b[1;34m\"invalid type comparison\"\u001b[0m\u001b[1;33m)\u001b[0m\u001b[1;33m\u001b[0m\u001b[0m\n\u001b[0m\u001b[1;32m    795\u001b[0m             \u001b[1;32mexcept\u001b[0m \u001b[0mAttributeError\u001b[0m\u001b[1;33m:\u001b[0m\u001b[1;33m\u001b[0m\u001b[0m\n\u001b[1;32m    796\u001b[0m                 \u001b[0mresult\u001b[0m \u001b[1;33m=\u001b[0m \u001b[0mop\u001b[0m\u001b[1;33m(\u001b[0m\u001b[0mx\u001b[0m\u001b[1;33m,\u001b[0m \u001b[0my\u001b[0m\u001b[1;33m)\u001b[0m\u001b[1;33m\u001b[0m\u001b[0m\n",
      "\u001b[0;31mTypeError\u001b[0m: invalid type comparison"
     ]
    }
   ],
   "source": [
    "# Calculate accuracy for our test set (percentage of the time that prediction == truth)\n",
    "test_acc = (test_preds == test_outcome).sum()/len(test_outcome)\n",
    "test_acc"
   ]
  },
  {
   "cell_type": "code",
   "execution_count": 142,
   "metadata": {
    "collapsed": false
   },
   "outputs": [
    {
     "data": {
      "text/plain": [
       "0.75186104218362282"
      ]
     },
     "execution_count": 142,
     "metadata": {},
     "output_type": "execute_result"
    }
   ],
   "source": [
    "# By comparison, how well do we predict in our training data?\n",
    "training_preds = clf.predict(train_features)\n",
    "train_acc = (training_preds == train_outcome).sum()/len(train_outcome)\n",
    "train_acc # Pefectly "
   ]
  },
  {
   "cell_type": "markdown",
   "metadata": {},
   "source": [
    "## Show the tree\n",
    "A little bit of a pain, though there are some alternatives to the [documentation](http://scikit-learn.org/stable/modules/tree.html) presented [here](https://github.com/scikit-learn/scikit-learn/issues/6261). You may have to do the following:\n",
    "\n",
    "```\n",
    "# Install graphviz in your terminal\n",
    "conda install graphviz\n",
    "```\n",
    "\n",
    "I then suggest the following solution:\n",
    "\n",
    "```\n",
    "tree.export_graphviz(clf, out_file=\"mytree.dot\")\n",
    "with open(\"mytree.dot\") as f:\n",
    "    dot_graph = f.read()\n",
    "graphviz.Source(dot_graph)\n",
    "```\n"
   ]
  },
  {
   "cell_type": "code",
   "execution_count": 23,
   "metadata": {
    "collapsed": false
   },
   "outputs": [
    {
     "ename": "IndexError",
     "evalue": "list index out of range",
     "output_type": "error",
     "traceback": [
      "\u001b[0;31m---------------------------------------------------------------------------\u001b[0m",
      "\u001b[0;31mIndexError\u001b[0m                                Traceback (most recent call last)",
      "\u001b[0;32m<ipython-input-23-d29066c4f8d5>\u001b[0m in \u001b[0;36m<module>\u001b[0;34m()\u001b[0m\n\u001b[1;32m      1\u001b[0m \u001b[1;32mimport\u001b[0m \u001b[0mgraphviz\u001b[0m\u001b[1;33m\u001b[0m\u001b[0m\n\u001b[0;32m----> 2\u001b[0;31m \u001b[0mtree\u001b[0m\u001b[1;33m.\u001b[0m\u001b[0mexport_graphviz\u001b[0m\u001b[1;33m(\u001b[0m\u001b[0mclf\u001b[0m\u001b[1;33m,\u001b[0m \u001b[0mfeature_names\u001b[0m\u001b[1;33m=\u001b[0m\u001b[0mfeatures\u001b[0m\u001b[1;33m.\u001b[0m\u001b[0mcolumns\u001b[0m\u001b[1;33m,\u001b[0m \u001b[0mclass_names\u001b[0m\u001b[1;33m=\u001b[0m\u001b[1;33m[\u001b[0m\u001b[1;34m'San Fran'\u001b[0m\u001b[1;33m,\u001b[0m \u001b[1;34m'NYC'\u001b[0m\u001b[1;33m]\u001b[0m\u001b[1;33m,\u001b[0m \u001b[0mout_file\u001b[0m\u001b[1;33m=\u001b[0m\u001b[1;34m\"mytree.dot\"\u001b[0m\u001b[1;33m)\u001b[0m\u001b[1;33m\u001b[0m\u001b[0m\n\u001b[0m\u001b[1;32m      3\u001b[0m \u001b[1;32mwith\u001b[0m \u001b[0mopen\u001b[0m\u001b[1;33m(\u001b[0m\u001b[1;34m\"mytree.dot\"\u001b[0m\u001b[1;33m)\u001b[0m \u001b[1;32mas\u001b[0m \u001b[0mf\u001b[0m\u001b[1;33m:\u001b[0m\u001b[1;33m\u001b[0m\u001b[0m\n\u001b[1;32m      4\u001b[0m     \u001b[0mdot_graph\u001b[0m \u001b[1;33m=\u001b[0m \u001b[0mf\u001b[0m\u001b[1;33m.\u001b[0m\u001b[0mread\u001b[0m\u001b[1;33m(\u001b[0m\u001b[1;33m)\u001b[0m\u001b[1;33m\u001b[0m\u001b[0m\n\u001b[1;32m      5\u001b[0m \u001b[0mgraphviz\u001b[0m\u001b[1;33m.\u001b[0m\u001b[0mSource\u001b[0m\u001b[1;33m(\u001b[0m\u001b[0mdot_graph\u001b[0m\u001b[1;33m)\u001b[0m\u001b[1;33m\u001b[0m\u001b[0m\n",
      "\u001b[0;32mC:\\Users\\Christopher\\Anaconda3\\lib\\site-packages\\sklearn\\tree\\export.py\u001b[0m in \u001b[0;36mexport_graphviz\u001b[0;34m(decision_tree, out_file, max_depth, feature_names, class_names, label, filled, leaves_parallel, impurity, node_ids, proportion, rotate, rounded, special_characters)\u001b[0m\n\u001b[1;32m    431\u001b[0m             \u001b[0mrecurse\u001b[0m\u001b[1;33m(\u001b[0m\u001b[0mdecision_tree\u001b[0m\u001b[1;33m,\u001b[0m \u001b[1;36m0\u001b[0m\u001b[1;33m,\u001b[0m \u001b[0mcriterion\u001b[0m\u001b[1;33m=\u001b[0m\u001b[1;34m\"impurity\"\u001b[0m\u001b[1;33m)\u001b[0m\u001b[1;33m\u001b[0m\u001b[0m\n\u001b[1;32m    432\u001b[0m         \u001b[1;32melse\u001b[0m\u001b[1;33m:\u001b[0m\u001b[1;33m\u001b[0m\u001b[0m\n\u001b[0;32m--> 433\u001b[0;31m             \u001b[0mrecurse\u001b[0m\u001b[1;33m(\u001b[0m\u001b[0mdecision_tree\u001b[0m\u001b[1;33m.\u001b[0m\u001b[0mtree_\u001b[0m\u001b[1;33m,\u001b[0m \u001b[1;36m0\u001b[0m\u001b[1;33m,\u001b[0m \u001b[0mcriterion\u001b[0m\u001b[1;33m=\u001b[0m\u001b[0mdecision_tree\u001b[0m\u001b[1;33m.\u001b[0m\u001b[0mcriterion\u001b[0m\u001b[1;33m)\u001b[0m\u001b[1;33m\u001b[0m\u001b[0m\n\u001b[0m\u001b[1;32m    434\u001b[0m \u001b[1;33m\u001b[0m\u001b[0m\n\u001b[1;32m    435\u001b[0m         \u001b[1;31m# If required, draw leaf nodes at same depth as each other\u001b[0m\u001b[1;33m\u001b[0m\u001b[1;33m\u001b[0m\u001b[0m\n",
      "\u001b[0;32mC:\\Users\\Christopher\\Anaconda3\\lib\\site-packages\\sklearn\\tree\\export.py\u001b[0m in \u001b[0;36mrecurse\u001b[0;34m(tree, node_id, criterion, parent, depth)\u001b[0m\n\u001b[1;32m    361\u001b[0m             \u001b[1;32mif\u001b[0m \u001b[0mleft_child\u001b[0m \u001b[1;33m!=\u001b[0m \u001b[0m_tree\u001b[0m\u001b[1;33m.\u001b[0m\u001b[0mTREE_LEAF\u001b[0m\u001b[1;33m:\u001b[0m\u001b[1;33m\u001b[0m\u001b[0m\n\u001b[1;32m    362\u001b[0m                 recurse(tree, left_child, criterion=criterion, parent=node_id,\n\u001b[0;32m--> 363\u001b[0;31m                         depth=depth + 1)\n\u001b[0m\u001b[1;32m    364\u001b[0m                 recurse(tree, right_child, criterion=criterion, parent=node_id,\n\u001b[1;32m    365\u001b[0m                         depth=depth + 1)\n",
      "\u001b[0;32mC:\\Users\\Christopher\\Anaconda3\\lib\\site-packages\\sklearn\\tree\\export.py\u001b[0m in \u001b[0;36mrecurse\u001b[0;34m(tree, node_id, criterion, parent, depth)\u001b[0m\n\u001b[1;32m    319\u001b[0m             out_file.write('%d [label=%s'\n\u001b[1;32m    320\u001b[0m                            % (node_id,\n\u001b[0;32m--> 321\u001b[0;31m                               node_to_str(tree, node_id, criterion)))\n\u001b[0m\u001b[1;32m    322\u001b[0m \u001b[1;33m\u001b[0m\u001b[0m\n\u001b[1;32m    323\u001b[0m             \u001b[1;32mif\u001b[0m \u001b[0mfilled\u001b[0m\u001b[1;33m:\u001b[0m\u001b[1;33m\u001b[0m\u001b[0m\n",
      "\u001b[0;32mC:\\Users\\Christopher\\Anaconda3\\lib\\site-packages\\sklearn\\tree\\export.py\u001b[0m in \u001b[0;36mnode_to_str\u001b[0;34m(tree, node_id, criterion)\u001b[0m\n\u001b[1;32m    284\u001b[0m                 \u001b[0mnode_string\u001b[0m \u001b[1;33m+=\u001b[0m \u001b[1;34m'class = '\u001b[0m\u001b[1;33m\u001b[0m\u001b[0m\n\u001b[1;32m    285\u001b[0m             \u001b[1;32mif\u001b[0m \u001b[0mclass_names\u001b[0m \u001b[1;32mis\u001b[0m \u001b[1;32mnot\u001b[0m \u001b[1;32mTrue\u001b[0m\u001b[1;33m:\u001b[0m\u001b[1;33m\u001b[0m\u001b[0m\n\u001b[0;32m--> 286\u001b[0;31m                 \u001b[0mclass_name\u001b[0m \u001b[1;33m=\u001b[0m \u001b[0mclass_names\u001b[0m\u001b[1;33m[\u001b[0m\u001b[0mnp\u001b[0m\u001b[1;33m.\u001b[0m\u001b[0margmax\u001b[0m\u001b[1;33m(\u001b[0m\u001b[0mvalue\u001b[0m\u001b[1;33m)\u001b[0m\u001b[1;33m]\u001b[0m\u001b[1;33m\u001b[0m\u001b[0m\n\u001b[0m\u001b[1;32m    287\u001b[0m             \u001b[1;32melse\u001b[0m\u001b[1;33m:\u001b[0m\u001b[1;33m\u001b[0m\u001b[0m\n\u001b[1;32m    288\u001b[0m                 class_name = \"y%s%s%s\" % (characters[1],\n",
      "\u001b[0;31mIndexError\u001b[0m: list index out of range"
     ]
    }
   ],
   "source": [
    "import graphviz\n",
    "tree.export_graphviz(clf, feature_names=features.columns, class_names=['San Fran', 'NYC'], out_file=\"mytree.dot\")\n",
    "with open(\"mytree.dot\") as f:\n",
    "    dot_graph = f.read()\n",
    "graphviz.Source(dot_graph)"
   ]
  },
  {
   "cell_type": "markdown",
   "metadata": {},
   "source": [
    "## Comparion to KNN\n",
    "Purely out of curiosity, how well does this model fit with KNN (for K=3)"
   ]
  },
  {
   "cell_type": "code",
   "execution_count": 25,
   "metadata": {
    "collapsed": false
   },
   "outputs": [],
   "source": [
    "# Create a knn classifier\n",
    "knn_clf = KNeighborsClassifier(n_neighbors = 3)"
   ]
  },
  {
   "cell_type": "code",
   "execution_count": 26,
   "metadata": {
    "collapsed": false
   },
   "outputs": [],
   "source": [
    "# Fit our classifier to our training data\n",
    "knn_fit = knn_clf.fit(train_features, train_outcome)"
   ]
  },
  {
   "cell_type": "code",
   "execution_count": 27,
   "metadata": {
    "collapsed": false
   },
   "outputs": [
    {
     "data": {
      "text/plain": [
       "0.0"
      ]
     },
     "execution_count": 27,
     "metadata": {},
     "output_type": "execute_result"
    }
   ],
   "source": [
    "# Predict on our test data and assess accuracy\n",
    "knn_test_preds = knn_fit.predict(test_features)\n",
    "test_acc = (knn_test_preds == test_outcome).sum()/len(test_outcome)\n",
    "test_acc"
   ]
  },
  {
   "cell_type": "code",
   "execution_count": null,
   "metadata": {
    "collapsed": true
   },
   "outputs": [],
   "source": []
  }
 ],
 "metadata": {
  "anaconda-cloud": {},
  "kernelspec": {
   "display_name": "Python 3",
   "language": "python",
   "name": "python3"
  },
  "language_info": {
   "codemirror_mode": {
    "name": "ipython",
    "version": 3
   },
   "file_extension": ".py",
   "mimetype": "text/x-python",
   "name": "python",
   "nbconvert_exporter": "python",
   "pygments_lexer": "ipython3",
   "version": "3.6.0"
  }
 },
 "nbformat": 4,
 "nbformat_minor": 1
}
